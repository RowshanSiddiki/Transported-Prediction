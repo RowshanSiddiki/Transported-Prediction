{
 "cells": [
  {
   "cell_type": "code",
   "execution_count": 5,
   "id": "3b8097fe-cd43-4938-b189-08fe1c456c1e",
   "metadata": {},
   "outputs": [],
   "source": [
    "import numpy as np\n",
    "import pandas as pd\n",
    "import matplotlib.pyplot as plt\n",
    "%matplotlib inline\n",
    "import seaborn as sns\n",
    "import warnings\n",
    "\n",
    "warnings.filterwarnings('ignore')\n",
    "pd.set_option('display.max_columns', None)\n",
    "pd.set_option('display.max_rows', None)"
   ]
  },
  {
   "cell_type": "code",
   "execution_count": 6,
   "id": "ba64bd7e-e4a0-44e5-91e9-bd4edf34e305",
   "metadata": {},
   "outputs": [
    {
     "data": {
      "text/html": [
       "<div>\n",
       "<style scoped>\n",
       "    .dataframe tbody tr th:only-of-type {\n",
       "        vertical-align: middle;\n",
       "    }\n",
       "\n",
       "    .dataframe tbody tr th {\n",
       "        vertical-align: top;\n",
       "    }\n",
       "\n",
       "    .dataframe thead th {\n",
       "        text-align: right;\n",
       "    }\n",
       "</style>\n",
       "<table border=\"1\" class=\"dataframe\">\n",
       "  <thead>\n",
       "    <tr style=\"text-align: right;\">\n",
       "      <th></th>\n",
       "      <th>PassengerId</th>\n",
       "      <th>HomePlanet</th>\n",
       "      <th>CryoSleep</th>\n",
       "      <th>Cabin</th>\n",
       "      <th>Destination</th>\n",
       "      <th>Age</th>\n",
       "      <th>VIP</th>\n",
       "      <th>RoomService</th>\n",
       "      <th>FoodCourt</th>\n",
       "      <th>ShoppingMall</th>\n",
       "      <th>Spa</th>\n",
       "      <th>VRDeck</th>\n",
       "      <th>Name</th>\n",
       "    </tr>\n",
       "  </thead>\n",
       "  <tbody>\n",
       "    <tr>\n",
       "      <th>0</th>\n",
       "      <td>0013_01</td>\n",
       "      <td>Earth</td>\n",
       "      <td>True</td>\n",
       "      <td>G/3/S</td>\n",
       "      <td>TRAPPIST-1e</td>\n",
       "      <td>27.0</td>\n",
       "      <td>False</td>\n",
       "      <td>0.0</td>\n",
       "      <td>0.0</td>\n",
       "      <td>0.0</td>\n",
       "      <td>0.0</td>\n",
       "      <td>0.0</td>\n",
       "      <td>Nelly Carsoning</td>\n",
       "    </tr>\n",
       "    <tr>\n",
       "      <th>1</th>\n",
       "      <td>0018_01</td>\n",
       "      <td>Earth</td>\n",
       "      <td>False</td>\n",
       "      <td>F/4/S</td>\n",
       "      <td>TRAPPIST-1e</td>\n",
       "      <td>19.0</td>\n",
       "      <td>False</td>\n",
       "      <td>0.0</td>\n",
       "      <td>9.0</td>\n",
       "      <td>0.0</td>\n",
       "      <td>2823.0</td>\n",
       "      <td>0.0</td>\n",
       "      <td>Lerome Peckers</td>\n",
       "    </tr>\n",
       "    <tr>\n",
       "      <th>2</th>\n",
       "      <td>0019_01</td>\n",
       "      <td>Europa</td>\n",
       "      <td>True</td>\n",
       "      <td>C/0/S</td>\n",
       "      <td>55 Cancri e</td>\n",
       "      <td>31.0</td>\n",
       "      <td>False</td>\n",
       "      <td>0.0</td>\n",
       "      <td>0.0</td>\n",
       "      <td>0.0</td>\n",
       "      <td>0.0</td>\n",
       "      <td>0.0</td>\n",
       "      <td>Sabih Unhearfus</td>\n",
       "    </tr>\n",
       "    <tr>\n",
       "      <th>3</th>\n",
       "      <td>0021_01</td>\n",
       "      <td>Europa</td>\n",
       "      <td>False</td>\n",
       "      <td>C/1/S</td>\n",
       "      <td>TRAPPIST-1e</td>\n",
       "      <td>38.0</td>\n",
       "      <td>False</td>\n",
       "      <td>0.0</td>\n",
       "      <td>6652.0</td>\n",
       "      <td>0.0</td>\n",
       "      <td>181.0</td>\n",
       "      <td>585.0</td>\n",
       "      <td>Meratz Caltilter</td>\n",
       "    </tr>\n",
       "    <tr>\n",
       "      <th>4</th>\n",
       "      <td>0023_01</td>\n",
       "      <td>Earth</td>\n",
       "      <td>False</td>\n",
       "      <td>F/5/S</td>\n",
       "      <td>TRAPPIST-1e</td>\n",
       "      <td>20.0</td>\n",
       "      <td>False</td>\n",
       "      <td>10.0</td>\n",
       "      <td>0.0</td>\n",
       "      <td>635.0</td>\n",
       "      <td>0.0</td>\n",
       "      <td>0.0</td>\n",
       "      <td>Brence Harperez</td>\n",
       "    </tr>\n",
       "  </tbody>\n",
       "</table>\n",
       "</div>"
      ],
      "text/plain": [
       "  PassengerId HomePlanet CryoSleep  Cabin  Destination   Age    VIP  \\\n",
       "0     0013_01      Earth      True  G/3/S  TRAPPIST-1e  27.0  False   \n",
       "1     0018_01      Earth     False  F/4/S  TRAPPIST-1e  19.0  False   \n",
       "2     0019_01     Europa      True  C/0/S  55 Cancri e  31.0  False   \n",
       "3     0021_01     Europa     False  C/1/S  TRAPPIST-1e  38.0  False   \n",
       "4     0023_01      Earth     False  F/5/S  TRAPPIST-1e  20.0  False   \n",
       "\n",
       "   RoomService  FoodCourt  ShoppingMall     Spa  VRDeck              Name  \n",
       "0          0.0        0.0           0.0     0.0     0.0   Nelly Carsoning  \n",
       "1          0.0        9.0           0.0  2823.0     0.0    Lerome Peckers  \n",
       "2          0.0        0.0           0.0     0.0     0.0   Sabih Unhearfus  \n",
       "3          0.0     6652.0           0.0   181.0   585.0  Meratz Caltilter  \n",
       "4         10.0        0.0         635.0     0.0     0.0   Brence Harperez  "
      ]
     },
     "execution_count": 6,
     "metadata": {},
     "output_type": "execute_result"
    }
   ],
   "source": [
    "train_df = pd.read_csv('train.csv')\n",
    "test_df = pd.read_csv('test.csv')\n",
    "test_df.head()"
   ]
  },
  {
   "cell_type": "code",
   "execution_count": 7,
   "id": "242bd168-8395-413c-b528-7b43b2737ba8",
   "metadata": {},
   "outputs": [
    {
     "data": {
      "text/plain": [
       "((8693, 14), (4277, 13))"
      ]
     },
     "execution_count": 7,
     "metadata": {},
     "output_type": "execute_result"
    }
   ],
   "source": [
    "train_df.shape, test_df.shape"
   ]
  },
  {
   "cell_type": "markdown",
   "id": "501f3552-bb1f-45bb-be0a-e164c1fea11e",
   "metadata": {},
   "source": [
    "# Drop the \"Name\" feature from both train and test datasets."
   ]
  },
  {
   "cell_type": "code",
   "execution_count": 12,
   "id": "d6c20329-4c6b-4cbb-be7c-a1155395910d",
   "metadata": {},
   "outputs": [],
   "source": [
    "train_df.drop('Name', axis=1, inplace=True)\n",
    "test_df.drop('Name', axis=1, inplace=True)"
   ]
  },
  {
   "cell_type": "code",
   "execution_count": null,
   "id": "4bb8ec32-5763-4672-889a-44af6bb289fb",
   "metadata": {},
   "outputs": [],
   "source": []
  },
  {
   "cell_type": "code",
   "execution_count": null,
   "id": "172e8759-db16-4024-8c32-cabb7394c7c8",
   "metadata": {},
   "outputs": [],
   "source": []
  },
  {
   "cell_type": "markdown",
   "id": "a195940b-0e1f-4141-ab10-42502526e44e",
   "metadata": {},
   "source": [
    "# Check the Missing values with features name."
   ]
  },
  {
   "cell_type": "code",
   "execution_count": 17,
   "id": "1ef13544-e0e4-4bc6-b720-9bb76e285fd2",
   "metadata": {},
   "outputs": [
    {
     "name": "stdout",
     "output_type": "stream",
     "text": [
      "HomePlanet 2.3 % missing\n",
      "CryoSleep 2.5 % missing\n",
      "Cabin 2.3 % missing\n",
      "Destination 2.1 % missing\n",
      "Age 2.1 % missing\n",
      "VIP 2.3 % missing\n",
      "RoomService 2.1 % missing\n",
      "FoodCourt 2.1 % missing\n",
      "ShoppingMall 2.4 % missing\n",
      "Spa 2.1 % missing\n",
      "VRDeck 2.1999999999999997 % missing\n"
     ]
    }
   ],
   "source": [
    "features_with_nan = [feature for feature in train_df.columns if train_df[feature].isnull().sum()>1]\n",
    "\n",
    "for feature in features_with_nan:\n",
    "    print(feature, np.round(train_df[feature].isnull().mean(), 3)*100, '% missing')"
   ]
  },
  {
   "cell_type": "code",
   "execution_count": null,
   "id": "ccb42dad-4ff3-4613-bf93-561077cbeea1",
   "metadata": {},
   "outputs": [],
   "source": []
  },
  {
   "cell_type": "code",
   "execution_count": 20,
   "id": "7a7a9937-9ace-4827-bdba-261b6b5dbb02",
   "metadata": {},
   "outputs": [
    {
     "name": "stdout",
     "output_type": "stream",
     "text": [
      "HomePlanet --> object\n",
      "CryoSleep --> object\n",
      "Cabin --> object\n",
      "Destination --> object\n",
      "Age --> float64\n",
      "VIP --> object\n",
      "RoomService --> float64\n",
      "FoodCourt --> float64\n",
      "ShoppingMall --> float64\n",
      "Spa --> float64\n",
      "VRDeck --> float64\n"
     ]
    }
   ],
   "source": [
    "for i in features_with_nan:\n",
    "    print(i, '-->', train_df[i].dtypes)"
   ]
  },
  {
   "cell_type": "code",
   "execution_count": 22,
   "id": "e6ae6c5a-b43c-4e41-bf92-29a1de6dfbb0",
   "metadata": {},
   "outputs": [],
   "source": [
    "def fill_obj(feature):\n",
    "    combine_mode_1 = pd.concat([train_df[feature], test_df[feature]]).mode()[0]\n",
    "    train_df[feature].fillna(combine_mode_1, inplace=True)\n",
    "    test_df[feature].fillna(combine_mode_1, inplace=True)\n",
    "\n",
    "def fill_flt(feature):\n",
    "    combine_mode_2 = pd.concat([train_df[feature], test_df[feature]]).mode()[0]\n",
    "    train_df[feature].fillna(combine_mode_2, inplace=True)\n",
    "    test_df[feature].fillna(combine_mode_2, inplace=True)"
   ]
  },
  {
   "cell_type": "code",
   "execution_count": 24,
   "id": "cb68fe3a-e245-4424-a82f-b44ffd771bdd",
   "metadata": {},
   "outputs": [],
   "source": [
    "fill_obj('HomePlanet')\n",
    "fill_obj('CryoSleep')\n",
    "fill_obj('Destination')\n",
    "fill_obj('VIP')\n",
    "fill_obj('Cabin')\n",
    "\n",
    "fill_flt('Age')\n",
    "fill_flt('RoomService')\n",
    "fill_flt('FoodCourt')\n",
    "fill_flt('ShoppingMall')\n",
    "fill_flt('Spa')\n",
    "fill_flt('VRDeck')"
   ]
  },
  {
   "cell_type": "code",
   "execution_count": null,
   "id": "41a78c6f-8102-4736-ad1a-0e27505deff9",
   "metadata": {},
   "outputs": [],
   "source": []
  },
  {
   "cell_type": "code",
   "execution_count": null,
   "id": "2040fef1-8cec-47e2-855d-e86fadc14009",
   "metadata": {},
   "outputs": [],
   "source": []
  },
  {
   "cell_type": "markdown",
   "id": "96c62296-cbf3-4989-a834-abac86e8d353",
   "metadata": {},
   "source": [
    "### Numerical features"
   ]
  },
  {
   "cell_type": "code",
   "execution_count": 29,
   "id": "c1f13d73-3e32-46ff-9d6f-ba3329759505",
   "metadata": {},
   "outputs": [
    {
     "data": {
      "text/plain": [
       "PassengerId      object\n",
       "HomePlanet       object\n",
       "CryoSleep          bool\n",
       "Cabin            object\n",
       "Destination      object\n",
       "Age             float64\n",
       "VIP                bool\n",
       "RoomService     float64\n",
       "FoodCourt       float64\n",
       "ShoppingMall    float64\n",
       "Spa             float64\n",
       "VRDeck          float64\n",
       "Transported        bool\n",
       "dtype: object"
      ]
     },
     "execution_count": 29,
     "metadata": {},
     "output_type": "execute_result"
    }
   ],
   "source": [
    "train_df.dtypes"
   ]
  },
  {
   "cell_type": "code",
   "execution_count": 31,
   "id": "273a1e41-527e-4565-b176-62caaa388de9",
   "metadata": {},
   "outputs": [
    {
     "data": {
      "text/html": [
       "<div>\n",
       "<style scoped>\n",
       "    .dataframe tbody tr th:only-of-type {\n",
       "        vertical-align: middle;\n",
       "    }\n",
       "\n",
       "    .dataframe tbody tr th {\n",
       "        vertical-align: top;\n",
       "    }\n",
       "\n",
       "    .dataframe thead th {\n",
       "        text-align: right;\n",
       "    }\n",
       "</style>\n",
       "<table border=\"1\" class=\"dataframe\">\n",
       "  <thead>\n",
       "    <tr style=\"text-align: right;\">\n",
       "      <th></th>\n",
       "      <th>Age</th>\n",
       "      <th>RoomService</th>\n",
       "      <th>FoodCourt</th>\n",
       "      <th>ShoppingMall</th>\n",
       "      <th>Spa</th>\n",
       "      <th>VRDeck</th>\n",
       "    </tr>\n",
       "  </thead>\n",
       "  <tbody>\n",
       "    <tr>\n",
       "      <th>Age</th>\n",
       "      <td>1.000000</td>\n",
       "      <td>0.069303</td>\n",
       "      <td>0.127015</td>\n",
       "      <td>0.034469</td>\n",
       "      <td>0.119759</td>\n",
       "      <td>0.099308</td>\n",
       "    </tr>\n",
       "    <tr>\n",
       "      <th>RoomService</th>\n",
       "      <td>0.069303</td>\n",
       "      <td>1.000000</td>\n",
       "      <td>-0.015126</td>\n",
       "      <td>0.052337</td>\n",
       "      <td>0.009244</td>\n",
       "      <td>-0.018624</td>\n",
       "    </tr>\n",
       "    <tr>\n",
       "      <th>FoodCourt</th>\n",
       "      <td>0.127015</td>\n",
       "      <td>-0.015126</td>\n",
       "      <td>1.000000</td>\n",
       "      <td>-0.013717</td>\n",
       "      <td>0.221468</td>\n",
       "      <td>0.224572</td>\n",
       "    </tr>\n",
       "    <tr>\n",
       "      <th>ShoppingMall</th>\n",
       "      <td>0.034469</td>\n",
       "      <td>0.052337</td>\n",
       "      <td>-0.013717</td>\n",
       "      <td>1.000000</td>\n",
       "      <td>0.014542</td>\n",
       "      <td>-0.007849</td>\n",
       "    </tr>\n",
       "    <tr>\n",
       "      <th>Spa</th>\n",
       "      <td>0.119759</td>\n",
       "      <td>0.009244</td>\n",
       "      <td>0.221468</td>\n",
       "      <td>0.014542</td>\n",
       "      <td>1.000000</td>\n",
       "      <td>0.147658</td>\n",
       "    </tr>\n",
       "    <tr>\n",
       "      <th>VRDeck</th>\n",
       "      <td>0.099308</td>\n",
       "      <td>-0.018624</td>\n",
       "      <td>0.224572</td>\n",
       "      <td>-0.007849</td>\n",
       "      <td>0.147658</td>\n",
       "      <td>1.000000</td>\n",
       "    </tr>\n",
       "  </tbody>\n",
       "</table>\n",
       "</div>"
      ],
      "text/plain": [
       "                   Age  RoomService  FoodCourt  ShoppingMall       Spa  \\\n",
       "Age           1.000000     0.069303   0.127015      0.034469  0.119759   \n",
       "RoomService   0.069303     1.000000  -0.015126      0.052337  0.009244   \n",
       "FoodCourt     0.127015    -0.015126   1.000000     -0.013717  0.221468   \n",
       "ShoppingMall  0.034469     0.052337  -0.013717      1.000000  0.014542   \n",
       "Spa           0.119759     0.009244   0.221468      0.014542  1.000000   \n",
       "VRDeck        0.099308    -0.018624   0.224572     -0.007849  0.147658   \n",
       "\n",
       "                VRDeck  \n",
       "Age           0.099308  \n",
       "RoomService  -0.018624  \n",
       "FoodCourt     0.224572  \n",
       "ShoppingMall -0.007849  \n",
       "Spa           0.147658  \n",
       "VRDeck        1.000000  "
      ]
     },
     "execution_count": 31,
     "metadata": {},
     "output_type": "execute_result"
    }
   ],
   "source": [
    "numerical_features = train_df.select_dtypes(include=['float64'])\n",
    "numerical_features.corr()"
   ]
  },
  {
   "cell_type": "code",
   "execution_count": 33,
   "id": "6c8f4447-b6a7-4b73-a644-cac0ffa927b7",
   "metadata": {},
   "outputs": [
    {
     "data": {
      "text/html": [
       "<div>\n",
       "<style scoped>\n",
       "    .dataframe tbody tr th:only-of-type {\n",
       "        vertical-align: middle;\n",
       "    }\n",
       "\n",
       "    .dataframe tbody tr th {\n",
       "        vertical-align: top;\n",
       "    }\n",
       "\n",
       "    .dataframe thead th {\n",
       "        text-align: right;\n",
       "    }\n",
       "</style>\n",
       "<table border=\"1\" class=\"dataframe\">\n",
       "  <thead>\n",
       "    <tr style=\"text-align: right;\">\n",
       "      <th></th>\n",
       "      <th>Age</th>\n",
       "      <th>RoomService</th>\n",
       "      <th>FoodCourt</th>\n",
       "      <th>ShoppingMall</th>\n",
       "      <th>Spa</th>\n",
       "      <th>VRDeck</th>\n",
       "    </tr>\n",
       "  </thead>\n",
       "  <tbody>\n",
       "    <tr>\n",
       "      <th>count</th>\n",
       "      <td>8693.000000</td>\n",
       "      <td>8693.000000</td>\n",
       "      <td>8693.000000</td>\n",
       "      <td>8693.000000</td>\n",
       "      <td>8693.000000</td>\n",
       "      <td>8693.000000</td>\n",
       "    </tr>\n",
       "    <tr>\n",
       "      <th>mean</th>\n",
       "      <td>28.604970</td>\n",
       "      <td>220.009318</td>\n",
       "      <td>448.434027</td>\n",
       "      <td>169.572300</td>\n",
       "      <td>304.588865</td>\n",
       "      <td>298.261820</td>\n",
       "    </tr>\n",
       "    <tr>\n",
       "      <th>std</th>\n",
       "      <td>14.421278</td>\n",
       "      <td>660.519050</td>\n",
       "      <td>1595.790627</td>\n",
       "      <td>598.007164</td>\n",
       "      <td>1125.562559</td>\n",
       "      <td>1134.126417</td>\n",
       "    </tr>\n",
       "    <tr>\n",
       "      <th>min</th>\n",
       "      <td>0.000000</td>\n",
       "      <td>0.000000</td>\n",
       "      <td>0.000000</td>\n",
       "      <td>0.000000</td>\n",
       "      <td>0.000000</td>\n",
       "      <td>0.000000</td>\n",
       "    </tr>\n",
       "    <tr>\n",
       "      <th>25%</th>\n",
       "      <td>19.000000</td>\n",
       "      <td>0.000000</td>\n",
       "      <td>0.000000</td>\n",
       "      <td>0.000000</td>\n",
       "      <td>0.000000</td>\n",
       "      <td>0.000000</td>\n",
       "    </tr>\n",
       "    <tr>\n",
       "      <th>50%</th>\n",
       "      <td>27.000000</td>\n",
       "      <td>0.000000</td>\n",
       "      <td>0.000000</td>\n",
       "      <td>0.000000</td>\n",
       "      <td>0.000000</td>\n",
       "      <td>0.000000</td>\n",
       "    </tr>\n",
       "    <tr>\n",
       "      <th>75%</th>\n",
       "      <td>37.000000</td>\n",
       "      <td>41.000000</td>\n",
       "      <td>61.000000</td>\n",
       "      <td>22.000000</td>\n",
       "      <td>53.000000</td>\n",
       "      <td>40.000000</td>\n",
       "    </tr>\n",
       "    <tr>\n",
       "      <th>max</th>\n",
       "      <td>79.000000</td>\n",
       "      <td>14327.000000</td>\n",
       "      <td>29813.000000</td>\n",
       "      <td>23492.000000</td>\n",
       "      <td>22408.000000</td>\n",
       "      <td>24133.000000</td>\n",
       "    </tr>\n",
       "  </tbody>\n",
       "</table>\n",
       "</div>"
      ],
      "text/plain": [
       "               Age   RoomService     FoodCourt  ShoppingMall           Spa  \\\n",
       "count  8693.000000   8693.000000   8693.000000   8693.000000   8693.000000   \n",
       "mean     28.604970    220.009318    448.434027    169.572300    304.588865   \n",
       "std      14.421278    660.519050   1595.790627    598.007164   1125.562559   \n",
       "min       0.000000      0.000000      0.000000      0.000000      0.000000   \n",
       "25%      19.000000      0.000000      0.000000      0.000000      0.000000   \n",
       "50%      27.000000      0.000000      0.000000      0.000000      0.000000   \n",
       "75%      37.000000     41.000000     61.000000     22.000000     53.000000   \n",
       "max      79.000000  14327.000000  29813.000000  23492.000000  22408.000000   \n",
       "\n",
       "             VRDeck  \n",
       "count   8693.000000  \n",
       "mean     298.261820  \n",
       "std     1134.126417  \n",
       "min        0.000000  \n",
       "25%        0.000000  \n",
       "50%        0.000000  \n",
       "75%       40.000000  \n",
       "max    24133.000000  "
      ]
     },
     "execution_count": 33,
     "metadata": {},
     "output_type": "execute_result"
    }
   ],
   "source": [
    "numerical_features.describe()"
   ]
  },
  {
   "cell_type": "code",
   "execution_count": 35,
   "id": "e924e32f-d474-46fa-83ad-bd8e46dc143d",
   "metadata": {},
   "outputs": [
    {
     "data": {
      "image/png": "[encoded data removed]",
      "text/plain": [
       "<Figure size 1200x1000 with 6 Axes>"
      ]
     },
     "metadata": {},
     "output_type": "display_data"
    }
   ],
   "source": [
    "plt.figure(figsize=[12, 10])\n",
    "plt.suptitle('Boxplot of all numerical features', fontsize=20, fontweight='bold', alpha=0.6, y=1.0)\n",
    "\n",
    "for i, j in enumerate(numerical_features, 0):\n",
    "    plt.subplot(4, 2, i+1)\n",
    "    sns.boxplot(x=train_df[j], data=train_df)\n",
    "    plt.tight_layout()"
   ]
  },
  {
   "cell_type": "code",
   "execution_count": null,
   "id": "ed09a726-4a7b-449b-ac94-72c66a683cdf",
   "metadata": {},
   "outputs": [],
   "source": []
  },
  {
   "cell_type": "code",
   "execution_count": null,
   "id": "132a1ca6-6a3c-44fe-8437-964aa354eb30",
   "metadata": {},
   "outputs": [],
   "source": []
  },
  {
   "cell_type": "markdown",
   "id": "1a04bcb4-554f-4482-9580-5a74688c8cf7",
   "metadata": {},
   "source": [
    "# Fix the outliers "
   ]
  },
  {
   "cell_type": "code",
   "execution_count": 40,
   "id": "e30b165f-db3c-4ad3-a060-f2ca1a8d1b0a",
   "metadata": {},
   "outputs": [],
   "source": [
    "def fix_outliers(feature):\n",
    "    IQR_train = train_df[feature].quantile(0.75) - train_df[feature].quantile(0.25)\n",
    "    IQR_test = test_df[feature].quantile(0.75) - test_df[feature].quantile(0.25)\n",
    "\n",
    "    train_upper = train_df[feature].quantile(0.75) + (IQR_train*3)\n",
    "    test_upper = test_df[feature].quantile(0.75) + (IQR_test*3)\n",
    "\n",
    "    train_df.loc[train_df[feature]>train_upper, feature] = train_upper\n",
    "    test_df.loc[test_df[feature]>test_upper, feature] = test_upper"
   ]
  },
  {
   "cell_type": "code",
   "execution_count": 42,
   "id": "6abb17fb-632a-4678-9976-3e45db1523ed",
   "metadata": {},
   "outputs": [],
   "source": [
    "fix_outliers('RoomService')\n",
    "fix_outliers('FoodCourt')\n",
    "fix_outliers('ShoppingMall')\n",
    "fix_outliers('Spa')\n",
    "fix_outliers('VRDeck')"
   ]
  },
  {
   "cell_type": "code",
   "execution_count": 44,
   "id": "70f2a3df-385c-443c-b020-6c8e096dcf7b",
   "metadata": {},
   "outputs": [],
   "source": [
    "age_iqr = train_df['Age'].quantile(0.75) - train_df['Age'].quantile(0.25)\n",
    "upper_age = train_df['Age'].quantile(0.75) + (age_iqr*1.5)\n",
    "\n",
    "train_df.loc[train_df['Age']>upper_age, 'Age'] = upper_age\n",
    "test_df.loc[test_df['Age']>upper_age, 'Age'] = upper_age"
   ]
  },
  {
   "cell_type": "code",
   "execution_count": null,
   "id": "a2e34296-1554-4a03-8dea-1584918d89ad",
   "metadata": {},
   "outputs": [],
   "source": []
  },
  {
   "cell_type": "code",
   "execution_count": 47,
   "id": "4c936af5-b20f-4ff7-9ee7-fbeae529b0bb",
   "metadata": {},
   "outputs": [
    {
     "data": {
      "image/png": "[encoded data removed]",
      "text/plain": [
       "<Figure size 1200x1000 with 6 Axes>"
      ]
     },
     "metadata": {},
     "output_type": "display_data"
    }
   ],
   "source": [
    "plt.figure(figsize=[12, 10])\n",
    "plt.suptitle('After fixing the outliers of Numeric Features', fontsize=20, fontweight='bold', alpha=0.6, y=1.0)\n",
    "\n",
    "for i, j in enumerate(numerical_features, 0):\n",
    "    plt.subplot(4, 2, i+1)\n",
    "    sns.boxplot(x=train_df[j], data=train_df)\n",
    "    plt.tight_layout()"
   ]
  },
  {
   "cell_type": "code",
   "execution_count": null,
   "id": "974aacf6-bee0-42ec-ad8c-83a357f64012",
   "metadata": {},
   "outputs": [],
   "source": []
  },
  {
   "cell_type": "code",
   "execution_count": null,
   "id": "4891bb10-b1ce-4db5-bfde-3bfadf99aea7",
   "metadata": {},
   "outputs": [],
   "source": []
  },
  {
   "cell_type": "code",
   "execution_count": null,
   "id": "4e621051-2359-4693-b2ff-bd14051e332a",
   "metadata": {},
   "outputs": [],
   "source": []
  },
  {
   "cell_type": "markdown",
   "id": "b614fbde-4110-432f-9dfd-ec42f7d3b3af",
   "metadata": {},
   "source": [
    "# Drop \"PassengerId\" from train and test dataset"
   ]
  },
  {
   "cell_type": "code",
   "execution_count": 53,
   "id": "e2ac6b75-8610-4ac6-92e2-f4b5888d31a0",
   "metadata": {},
   "outputs": [],
   "source": [
    "train_df.drop('PassengerId', axis=1, inplace=True)\n",
    "test_df.drop('PassengerId', axis=1, inplace=True)"
   ]
  },
  {
   "cell_type": "code",
   "execution_count": null,
   "id": "514fb922-1ac1-4240-bd47-7f31e9558a32",
   "metadata": {},
   "outputs": [],
   "source": []
  },
  {
   "cell_type": "code",
   "execution_count": null,
   "id": "ad6bbdd3-555c-499b-8b2b-9f0097a8a0c7",
   "metadata": {},
   "outputs": [],
   "source": []
  },
  {
   "cell_type": "markdown",
   "id": "b584e3e9-0e06-4fbd-a22c-cbcdd7c4a097",
   "metadata": {},
   "source": [
    "# Encoding of the categorical features"
   ]
  },
  {
   "cell_type": "code",
   "execution_count": 58,
   "id": "f7cf89d9-f498-4d71-90af-8a6894ec6448",
   "metadata": {},
   "outputs": [],
   "source": [
    "cabin_dictionary = pd.concat([train_df['Cabin'], test_df['Cabin']]).value_counts().to_dict()\n",
    "train_df['Cabin'] = train_df['Cabin'].map(cabin_dictionary)\n",
    "test_df['Cabin'] = test_df['Cabin'].map(cabin_dictionary)"
   ]
  },
  {
   "cell_type": "code",
   "execution_count": null,
   "id": "01d5569d-6541-4705-85bb-230d3115bbd6",
   "metadata": {},
   "outputs": [],
   "source": []
  },
  {
   "cell_type": "code",
   "execution_count": null,
   "id": "24faeecc-4dfd-4bc1-a1a7-7342953ec306",
   "metadata": {},
   "outputs": [],
   "source": []
  },
  {
   "cell_type": "markdown",
   "id": "bf477985-dc16-41bf-83b9-c586b3359e5f",
   "metadata": {},
   "source": [
    "# Work on \"Transported\" feature"
   ]
  },
  {
   "cell_type": "code",
   "execution_count": 63,
   "id": "bb7a56e1-1d04-4a99-99d0-03c28d8e7683",
   "metadata": {},
   "outputs": [],
   "source": [
    "train_df['Transported'] = np.where(train_df['Transported']==False, 0, 1)"
   ]
  },
  {
   "cell_type": "code",
   "execution_count": null,
   "id": "1ccf6705-02d7-4006-b253-2bb3fabb3517",
   "metadata": {},
   "outputs": [],
   "source": []
  },
  {
   "cell_type": "code",
   "execution_count": null,
   "id": "9cc81c1a-d85e-464c-b1cb-c2f4c05c7687",
   "metadata": {},
   "outputs": [],
   "source": []
  },
  {
   "cell_type": "markdown",
   "id": "39212d37-5759-425d-b9e6-14a0d28be199",
   "metadata": {},
   "source": [
    "# Change the data type 'bool' to 'object'"
   ]
  },
  {
   "cell_type": "code",
   "execution_count": 68,
   "id": "ebf18dd6-adc2-4b36-b1bc-f755c3318664",
   "metadata": {},
   "outputs": [],
   "source": [
    "train_df['CryoSleep'] = train_df['CryoSleep'].astype('object')\n",
    "train_df['VIP'] = train_df['VIP'].astype('object')\n",
    "\n",
    "test_df['CryoSleep'] = test_df['CryoSleep'].astype('object')\n",
    "test_df['VIP'] = test_df['VIP'].astype('object')"
   ]
  },
  {
   "cell_type": "code",
   "execution_count": null,
   "id": "b11c3dd7-9a03-4c5c-aa10-9191eed9e579",
   "metadata": {},
   "outputs": [],
   "source": []
  },
  {
   "cell_type": "code",
   "execution_count": null,
   "id": "bd2d7a7c-a673-45c6-9fb3-27d72f2c6767",
   "metadata": {},
   "outputs": [],
   "source": []
  },
  {
   "cell_type": "markdown",
   "id": "85027870-0c7c-4356-9df5-2727bcfe7e13",
   "metadata": {},
   "source": [
    "# Save the datsets"
   ]
  },
  {
   "cell_type": "code",
   "execution_count": 73,
   "id": "5aca15c9-19ce-4375-b597-67746ca23074",
   "metadata": {},
   "outputs": [],
   "source": [
    "train_df.to_csv('cleaned_train_df.csv', index=False)\n",
    "test_df.to_csv('cleaned_test_df.csv', index=False)"
   ]
  },
  {
   "cell_type": "code",
   "execution_count": null,
   "id": "9da71afc-6bf2-4f42-b516-79b7203086a3",
   "metadata": {},
   "outputs": [],
   "source": []
  },
  {
   "cell_type": "code",
   "execution_count": null,
   "id": "8e99a196-21f7-4451-96e9-e45a7e73f91a",
   "metadata": {},
   "outputs": [],
   "source": []
  },
  {
   "cell_type": "code",
   "execution_count": null,
   "id": "c1e888a6-29c1-4592-ac0d-06f18335b4a0",
   "metadata": {},
   "outputs": [],
   "source": []
  },
  {
   "cell_type": "code",
   "execution_count": null,
   "id": "8c5a6d2f-8e0a-4ba2-b574-a40752ddd7de",
   "metadata": {},
   "outputs": [],
   "source": []
  },
  {
   "cell_type": "code",
   "execution_count": null,
   "id": "93a11c95-17c3-47b9-b770-76f159234351",
   "metadata": {},
   "outputs": [],
   "source": []
  },
  {
   "cell_type": "code",
   "execution_count": null,
   "id": "df0d946f-e267-430b-bdca-0ee0efe8d9e7",
   "metadata": {},
   "outputs": [],
   "source": []
  },
  {
   "cell_type": "code",
   "execution_count": null,
   "id": "61b1e146-51fd-4c03-bd72-c1b9482bec3c",
   "metadata": {},
   "outputs": [],
   "source": []
  },
  {
   "cell_type": "code",
   "execution_count": null,
   "id": "8d1b18d8-f8be-4043-a4a8-62d56a5a35fb",
   "metadata": {},
   "outputs": [],
   "source": []
  },
  {
   "cell_type": "code",
   "execution_count": null,
   "id": "dfd45255-d2cd-4406-8bc5-0309d3fd8810",
   "metadata": {},
   "outputs": [],
   "source": []
  },
  {
   "cell_type": "code",
   "execution_count": null,
   "id": "b4efa257-351f-4fc2-8335-f38899299435",
   "metadata": {},
   "outputs": [],
   "source": []
  },
  {
   "cell_type": "code",
   "execution_count": null,
   "id": "372636e3-b5f2-493a-b966-c9b8b6045db9",
   "metadata": {},
   "outputs": [],
   "source": []
  },
  {
   "cell_type": "code",
   "execution_count": null,
   "id": "46935e54-827f-4ca7-914b-5757654e0cd1",
   "metadata": {},
   "outputs": [],
   "source": []
  },
  {
   "cell_type": "code",
   "execution_count": null,
   "id": "2657701e-4a4d-4761-a79f-a1c48bf3bcb6",
   "metadata": {},
   "outputs": [],
   "source": []
  },
  {
   "cell_type": "code",
   "execution_count": null,
   "id": "bf5a528f-f6fb-439a-be2c-0e93131b2dac",
   "metadata": {},
   "outputs": [],
   "source": []
  },
  {
   "cell_type": "code",
   "execution_count": null,
   "id": "64ee7538-7808-4efa-8559-63f4dd3177cc",
   "metadata": {},
   "outputs": [],
   "source": []
  },
  {
   "cell_type": "code",
   "execution_count": null,
   "id": "37774e2e-36cf-44a6-b70b-a7cb84fc4e6b",
   "metadata": {},
   "outputs": [],
   "source": []
  },
  {
   "cell_type": "code",
   "execution_count": null,
   "id": "2c144c7c-c512-4e68-9ffd-9e9b3417186c",
   "metadata": {},
   "outputs": [],
   "source": []
  },
  {
   "cell_type": "code",
   "execution_count": null,
   "id": "b294fdce-28bf-4555-b457-209ac26ed186",
   "metadata": {},
   "outputs": [],
   "source": []
  },
  {
   "cell_type": "code",
   "execution_count": null,
   "id": "f9d61549-7c8b-4474-b12f-ba5629774717",
   "metadata": {},
   "outputs": [],
   "source": []
  },
  {
   "cell_type": "code",
   "execution_count": null,
   "id": "9e761759-6caa-4a9b-be9d-99d4ef3cd244",
   "metadata": {},
   "outputs": [],
   "source": []
  },
  {
   "cell_type": "code",
   "execution_count": null,
   "id": "a6f4df2a-8682-440b-a8e1-14f00e4cab49",
   "metadata": {},
   "outputs": [],
   "source": []
  },
  {
   "cell_type": "code",
   "execution_count": null,
   "id": "782e89b0-6a66-462a-82c7-87c6a237401c",
   "metadata": {},
   "outputs": [],
   "source": []
  },
  {
   "cell_type": "code",
   "execution_count": null,
   "id": "3d470969-3be0-4053-ba75-1a1b786bca0e",
   "metadata": {},
   "outputs": [],
   "source": []
  },
  {
   "cell_type": "code",
   "execution_count": null,
   "id": "d535cb40-50ff-4744-96c8-99b1be7ef27f",
   "metadata": {},
   "outputs": [],
   "source": []
  },
  {
   "cell_type": "code",
   "execution_count": null,
   "id": "fe1093de-3da1-401e-90d1-59c3bee8cd34",
   "metadata": {},
   "outputs": [],
   "source": []
  }
 ],
 "metadata": {
  "kernelspec": {
   "display_name": "Python 3 (ipykernel)",
   "language": "python",
   "name": "python3"
  },
  "language_info": {
   "codemirror_mode": {
    "name": "ipython",
    "version": 3
   },
   "file_extension": ".py",
   "mimetype": "text/x-python",
   "name": "python",
   "nbconvert_exporter": "python",
   "pygments_lexer": "ipython3",
   "version": "3.11.7"
  }
 },
 "nbformat": 4,
 "nbformat_minor": 5
}
